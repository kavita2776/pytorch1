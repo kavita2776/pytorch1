{
  "cells": [
    {
      "cell_type": "code",
      "execution_count": 63,
      "metadata": {
        "id": "xKHjfDWx8it7"
      },
      "outputs": [],
      "source": [
        "import os\n",
        "import re\n",
        "import cv2 #opencv library\n",
        "import numpy as np\n",
        "from os.path import isfile, join\n",
        "import matplotlib.pyplot as plt\n",
        "import glob\n",
        "\n"
      ]
    },
    {
      "cell_type": "code",
      "execution_count": 65,
      "metadata": {
        "id": "6xri_lOo9y_A"
      },
      "outputs": [],
      "source": [
        "col_frames = os.listdir('/content/sample_data/frame')\n",
        "col_frames.sort(key=lambda f: int(re.sub('\\D', '', f)))\n",
        "col_images = []\n",
        "for i in col_frames :\n",
        "  #read frames\n",
        "  img = cv2.imread('/content/sample_data/frame'+i)\n",
        "  col_images.append(img)"
      ]
    },
    {
      "cell_type": "code",
      "execution_count": 66,
      "metadata": {
        "colab": {
          "base_uri": "https://localhost:8080/",
          "height": 235
        },
        "id": "5nwqG5vO9zBG",
        "outputId": "03fe6197-81cf-4784-b2a4-eae9ce623d7a"
      },
      "outputs": [
        {
          "output_type": "error",
          "ename": "error",
          "evalue": "ignored",
          "traceback": [
            "\u001b[0;31m---------------------------------------------------------------------------\u001b[0m",
            "\u001b[0;31merror\u001b[0m                                     Traceback (most recent call last)",
            "\u001b[0;32m<ipython-input-66-044316e2012a>\u001b[0m in \u001b[0;36m<module>\u001b[0;34m\u001b[0m\n\u001b[1;32m      1\u001b[0m \u001b[0mi\u001b[0m \u001b[0;34m=\u001b[0m \u001b[0;36m13\u001b[0m\u001b[0;34m\u001b[0m\u001b[0;34m\u001b[0m\u001b[0m\n\u001b[1;32m      2\u001b[0m \u001b[0;32mfor\u001b[0m \u001b[0mframes\u001b[0m \u001b[0;32min\u001b[0m \u001b[0;34m[\u001b[0m\u001b[0mi\u001b[0m\u001b[0;34m,\u001b[0m \u001b[0mi\u001b[0m\u001b[0;34m+\u001b[0m\u001b[0;36m1\u001b[0m\u001b[0;34m]\u001b[0m\u001b[0;34m:\u001b[0m\u001b[0;34m\u001b[0m\u001b[0;34m\u001b[0m\u001b[0m\n\u001b[0;32m----> 3\u001b[0;31m   \u001b[0mplt\u001b[0m\u001b[0;34m.\u001b[0m\u001b[0mimshow\u001b[0m\u001b[0;34m(\u001b[0m\u001b[0mcv2\u001b[0m\u001b[0;34m.\u001b[0m\u001b[0mcvtColor\u001b[0m\u001b[0;34m(\u001b[0m\u001b[0mcol_images\u001b[0m\u001b[0;34m[\u001b[0m\u001b[0mframes\u001b[0m\u001b[0;34m]\u001b[0m\u001b[0;34m,\u001b[0m \u001b[0mcv2\u001b[0m\u001b[0;34m.\u001b[0m\u001b[0mCOLOR_BGR2RGB\u001b[0m\u001b[0;34m)\u001b[0m\u001b[0;34m)\u001b[0m\u001b[0;34m\u001b[0m\u001b[0;34m\u001b[0m\u001b[0m\n\u001b[0m\u001b[1;32m      4\u001b[0m   \u001b[0mplt\u001b[0m\u001b[0;34m.\u001b[0m\u001b[0mtitle\u001b[0m\u001b[0;34m(\u001b[0m\u001b[0;34m\"/content/sample_data/frames:\"\u001b[0m \u001b[0;34m+\u001b[0m\u001b[0mstr\u001b[0m\u001b[0;34m(\u001b[0m\u001b[0mframes\u001b[0m\u001b[0;34m)\u001b[0m\u001b[0;34m)\u001b[0m\u001b[0;34m\u001b[0m\u001b[0;34m\u001b[0m\u001b[0m\n\u001b[1;32m      5\u001b[0m   \u001b[0mplt\u001b[0m\u001b[0;34m.\u001b[0m\u001b[0mshow\u001b[0m\u001b[0;34m(\u001b[0m\u001b[0;34m)\u001b[0m\u001b[0;34m\u001b[0m\u001b[0;34m\u001b[0m\u001b[0m\n",
            "\u001b[0;31merror\u001b[0m: OpenCV(4.6.0) /io/opencv/modules/imgproc/src/color.cpp:182: error: (-215:Assertion failed) !_src.empty() in function 'cvtColor'\n"
          ]
        }
      ],
      "source": [
        "i = 13\n",
        "for frames in [i, i+1]:\n",
        "  plt.imshow(cv2.cvtColor(col_images[frames], cv2.COLOR_BGR2RGB))\n",
        "  plt.title(\"/content/sample_data/frames:\" +str(frames))\n",
        "  plt.show()"
      ]
    },
    {
      "cell_type": "code",
      "execution_count": null,
      "metadata": {
        "id": "AkcwCUyVFChr"
      },
      "outputs": [],
      "source": []
    },
    {
      "cell_type": "code",
      "execution_count": null,
      "metadata": {
        "colab": {
          "base_uri": "https://localhost:8080/",
          "height": 235
        },
        "id": "EIbFxDBtBftg",
        "outputId": "a70d5df2-9caa-47dd-d20b-4a2664172afc"
      },
      "outputs": [
        {
          "ename": "error",
          "evalue": "ignored",
          "output_type": "error",
          "traceback": [
            "\u001b[0;31m---------------------------------------------------------------------------\u001b[0m",
            "\u001b[0;31merror\u001b[0m                                     Traceback (most recent call last)",
            "\u001b[0;32m<ipython-input-17-fd5bc14c2ce2>\u001b[0m in \u001b[0;36m<module>\u001b[0;34m\u001b[0m\n\u001b[1;32m      1\u001b[0m \u001b[0mi\u001b[0m \u001b[0;34m=\u001b[0m \u001b[0;36m13\u001b[0m\u001b[0;34m\u001b[0m\u001b[0;34m\u001b[0m\u001b[0m\n\u001b[1;32m      2\u001b[0m \u001b[0;32mfor\u001b[0m \u001b[0mframes\u001b[0m \u001b[0;32min\u001b[0m \u001b[0;34m[\u001b[0m\u001b[0mi\u001b[0m\u001b[0;34m,\u001b[0m \u001b[0mi\u001b[0m\u001b[0;34m+\u001b[0m\u001b[0;36m1\u001b[0m\u001b[0;34m]\u001b[0m\u001b[0;34m:\u001b[0m\u001b[0;34m\u001b[0m\u001b[0;34m\u001b[0m\u001b[0m\n\u001b[0;32m----> 3\u001b[0;31m   \u001b[0mplt\u001b[0m\u001b[0;34m.\u001b[0m\u001b[0mimshow\u001b[0m\u001b[0;34m(\u001b[0m\u001b[0mcv2\u001b[0m\u001b[0;34m.\u001b[0m\u001b[0mcvtColor\u001b[0m\u001b[0;34m(\u001b[0m\u001b[0mcol_images\u001b[0m\u001b[0;34m[\u001b[0m\u001b[0mframes\u001b[0m\u001b[0;34m]\u001b[0m\u001b[0;34m,\u001b[0m \u001b[0mcv2\u001b[0m\u001b[0;34m.\u001b[0m\u001b[0mCOLOR_BGR2RGB\u001b[0m\u001b[0;34m)\u001b[0m\u001b[0;34m)\u001b[0m\u001b[0;34m\u001b[0m\u001b[0;34m\u001b[0m\u001b[0m\n\u001b[0m\u001b[1;32m      4\u001b[0m   \u001b[0mplt\u001b[0m\u001b[0;34m.\u001b[0m\u001b[0mtitle\u001b[0m\u001b[0;34m(\u001b[0m\u001b[0;34m\"/content/sample_data/frames:\"\u001b[0m \u001b[0;34m+\u001b[0m\u001b[0mstr\u001b[0m\u001b[0;34m(\u001b[0m\u001b[0mframe\u001b[0m\u001b[0;34m)\u001b[0m\u001b[0;34m)\u001b[0m\u001b[0;34m\u001b[0m\u001b[0;34m\u001b[0m\u001b[0m\n\u001b[1;32m      5\u001b[0m   \u001b[0mplt\u001b[0m\u001b[0;34m.\u001b[0m\u001b[0mshow\u001b[0m\u001b[0;34m(\u001b[0m\u001b[0;34m)\u001b[0m\u001b[0;34m\u001b[0m\u001b[0;34m\u001b[0m\u001b[0m\n",
            "\u001b[0;31merror\u001b[0m: OpenCV(4.6.0) /io/opencv/modules/imgproc/src/color.cpp:182: error: (-215:Assertion failed) !_src.empty() in function 'cvtColor'\n"
          ]
        }
      ],
      "source": [
        "i = 13\n",
        "for frames in [i, i+1]:\n",
        "  plt.imshow(cv2.cvtColor(col_images[frames], cv2.COLOR_BGR2RGB))\n",
        "  plt.title(\"/content/sample_data/frames:\" +str(frame))\n",
        "  plt.show()"
      ]
    },
    {
      "cell_type": "code",
      "execution_count": null,
      "metadata": {
        "id": "ed4ucNjT9zDj"
      },
      "outputs": [],
      "source": [
        "grayA = cv2.cvtColor(col_images[i], cv2.COLOR_BGR2GRAY)\n",
        "grayB = cv2.cvtColor(col_images[i+1], cv2.COLOR_BGR2GRAY)\n",
        "\n",
        "plt.imshow(cv2.absdiff(grayB, grayA), cmap = 'gray')\n",
        "plt.show()"
      ]
    },
    {
      "cell_type": "code",
      "execution_count": null,
      "metadata": {
        "id": "riWPvLle9zG_"
      },
      "outputs": [],
      "source": [
        "diff_images = cv2.absdiff(grayB, grayA)\n",
        "\n",
        "ret, thresh = cv2.threshold(diff_image, 30, 70, cv2.THRESH_BINARY)\n",
        "\n",
        "plt.imshow(thresh, cmap = 'gray')\n",
        "plt.show()"
      ]
    },
    {
      "cell_type": "code",
      "execution_count": null,
      "metadata": {
        "id": "tjvlIGeP9zLE"
      },
      "outputs": [],
      "source": [
        "kernel = np.ones((3, 3),np.unit8)\n",
        "dilated = cv2.dilate(thresh, kernel,iterations = 1)\n",
        "\n",
        "#plot \n",
        "plt.imshow(dilated, cmap = 'gray')\n",
        "plt.show()"
      ]
    },
    {
      "cell_type": "code",
      "execution_count": null,
      "metadata": {
        "id": "WF4BILwb9zNu"
      },
      "outputs": [],
      "source": [
        "plt.imshow(dilated)\n",
        "cv2.line(dilated, (0, 30),(75,30), (40, 0,0))\n",
        "plt.show()"
      ]
    },
    {
      "cell_type": "code",
      "execution_count": null,
      "metadata": {
        "id": "wkUCvr8P9zQT"
      },
      "outputs": [],
      "source": []
    },
    {
      "cell_type": "code",
      "execution_count": null,
      "metadata": {
        "id": "u9JKAuHUBgAy"
      },
      "outputs": [],
      "source": [
        "dmy = col_images[13].copy()\n",
        "\n",
        "cv2.drawContours(dmy, valid_cntrs, -1, (15,60,0), 2)\n",
        "cv2.line(dmy, (0, 30), (75,30), (40,74, 74))\n",
        "plt.imshow(dmy)\n",
        "plt.show()"
      ]
    },
    {
      "cell_type": "code",
      "execution_count": null,
      "metadata": {
        "id": "Y4j6F_5KBf-G"
      },
      "outputs": [],
      "source": [
        "valid_cntrs = []\n",
        "\n",
        "for i,cntrs in enumerate(contours):\n",
        "  x,y,w,h = cv2.boundingRect(cntr)\n",
        "  if (x <= 60 ) & (y >= 30) & (Cv2.contourArea(cntr) >= 25):\n",
        "    valid_cntrs.append(cntr)\n",
        "\n",
        "len(valid_cntrs)"
      ]
    },
    {
      "cell_type": "code",
      "execution_count": null,
      "metadata": {
        "id": "XV9sHWSG9zS-"
      },
      "outputs": [],
      "source": [
        "dmy = col_images[13].copy()\n",
        "\n",
        "cv2.drawContours(dmy, valid_cntrs, -1, (15,60,0), 2)\n",
        "cv2.line(dmy, (0, 30), (75,30), (40,74, 74))\n",
        "plt.imshow(dmy)\n",
        "plt.show()"
      ]
    },
    {
      "cell_type": "code",
      "execution_count": null,
      "metadata": {
        "id": "jfPLRF3GBgDX"
      },
      "outputs": [],
      "source": [
        "kernel = np.ones((4,4),np.unit8)\n",
        "font = cv2.FONT_HERSHEY_SIMPLEX\n",
        "\n",
        "pathIn = \"contour_frsmes_3/\"\n",
        "\n",
        "for i in range(len(col_images)-1):\n",
        "\n",
        "  grayA = cv2.cvtColor(col_images[i], cv2.COLOR_BGR2GRAY)\n",
        "  grayB = cv2.cvtColor(col_images[i+], cv2.COLOR_BGR2GRAY)\n",
        "  diff_image = cv2.absdiff(grayB, grayA)\n",
        "\n",
        "  #image\n",
        "  ret, thresh = cv2.yhreshold(Diff_image, 10, 74, cv2.THRESH_BINARY)\n",
        "\n",
        "  dilated = cv2.dilated(thresh,kernel,iterations = 1)\n",
        "\n",
        "  contours, hierarchy = cv2.findContours(dilated.copy(), cv.RETER_TREE, cv2.CHAIN_APPROX_NONE)\n",
        "\n",
        "  valid_cntrs = []\n",
        "  for cntr in contours:\n",
        "    x,y,w,h = cv2.boundingRect(cntr)\n",
        "    if (x <= 60) & (y >= 30) & (Cv2.contourArea(cntr) >= 25):\n",
        "      if (y>= 30) & (cv2.countourArea(cntr) < 15)\n",
        "      break\n",
        "    valid_cntrs.append(cntr)\n",
        "\n",
        "  dmy = col_images[i].copy()\n",
        "  cv2.drawContours(dmy, valid_cntrs, -1, (20,60,0), 2)\n",
        "\n",
        "  cv2.putText(dmy, \"vehicle detected: \" + str(len(valid_cntrs)), (55, 15), font, 0.6, (0, 180, 0), 2)\n",
        "  cv2.line(dmy, (0, 80), (75, 80 ), (35, 74 , 74 ))\n",
        "  cv2.imwrite(pathIn+str(i)+'.png',dmy)"
      ]
    },
    {
      "cell_type": "code",
      "execution_count": null,
      "metadata": {
        "id": "5rZcF56L9zWH"
      },
      "outputs": [],
      "source": []
    },
    {
      "cell_type": "code",
      "execution_count": null,
      "metadata": {
        "id": "E_sl1ZKiXehX"
      },
      "outputs": [],
      "source": [
        "frame_array = []\n",
        "files = [f for f in os.listdir(pathIn) if isfile(join(pathIn, f))]"
      ]
    },
    {
      "cell_type": "code",
      "execution_count": null,
      "metadata": {
        "id": "X2Kb9MVtXekc"
      },
      "outputs": [],
      "source": [
        "files.sort(key=lambda f: int(re.sub('\\D', '', f)))\n",
        "\n",
        "for i in range(len(files)):\n",
        "  filename=pathIn + files[i]\n",
        "\n",
        "  img = cv2.imread(filename)\n",
        "  height, width, layers = img.shape\n",
        "  size = (width,height)\n",
        "\n",
        "  frmae_array.append(img)"
      ]
    },
    {
      "cell_type": "code",
      "execution_count": null,
      "metadata": {
        "id": "srbosxNSXen9"
      },
      "outputs": [],
      "source": [
        "out = cv2.VedioWriter(pathOut,cv2.VedioWriter_fourcc(*'DIVX'), fps, size)\n",
        "\n",
        "for i in range(len(frame_array)):\n",
        "  #\n",
        "  out.write(frame_array[i])\n",
        "  \n",
        "out.release()"
      ]
    },
    {
      "cell_type": "code",
      "execution_count": null,
      "metadata": {
        "id": "T6tT6yrU9zZd"
      },
      "outputs": [],
      "source": []
    }
  ],
  "metadata": {
    "colab": {
      "collapsed_sections": [],
      "provenance": []
    },
    "kernelspec": {
      "display_name": "Python 3",
      "name": "python3"
    },
    "language_info": {
      "name": "python"
    }
  },
  "nbformat": 4,
  "nbformat_minor": 0
}